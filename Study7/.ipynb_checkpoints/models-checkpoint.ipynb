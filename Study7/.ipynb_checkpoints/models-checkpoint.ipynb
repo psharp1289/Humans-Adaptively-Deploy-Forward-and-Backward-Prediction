{
 "cells": [
  {
   "cell_type": "markdown",
   "id": "9b5f86fc",
   "metadata": {},
   "source": [
    "# Load data"
   ]
  },
  {
   "cell_type": "code",
   "execution_count": 4,
   "id": "273b1d7c",
   "metadata": {},
   "outputs": [
    {
     "name": "stdout",
     "output_type": "stream",
     "text": [
      "0.5935430463576159\n"
     ]
    }
   ],
   "source": [
    "#load dependencies\n",
    "import numpy as np\n",
    "from IPython.display import Image\n",
    "from matplotlib import gridspec\n",
    "import pandas as pd\n",
    "import numpy as np\n",
    "import pymc as pm\n",
    "import matplotlib.pyplot as plt\n",
    "import seaborn as sns\n",
    "\n",
    "\n",
    "sns.set(style='white', palette='Set2', font='arial', font_scale=1.0, rc=None)\n",
    "\n",
    "df=pd.read_csv('survey_with_scores.csv') #load data\n",
    "#print means of each key variable\n",
    "\n",
    "\n",
    "\n",
    "CP_evidence=round(df['CondProb']*4,2)\n",
    "CP_evidence = CP_evidence.astype(int)\n",
    "\n",
    "n_subjects = len(df)\n",
    "\n",
    "print(df['CondProb'].mean())"
   ]
  },
  {
   "cell_type": "markdown",
   "id": "9d3ef91f",
   "metadata": {},
   "source": [
    "# Fit Model for Hypothesis 1: Evidence for PR-based Planning\n",
    "\n",
    "Below we fit the beta-binomial described in text to choice data for Variable 1, which defines the number of times participants chose in line with PR-based planning. If omega, the mode of the group distribution, is estimated to be significantly greater than 0.5 (no evidence of PR-based planning), then we conclude evidence for our main hypothesis.\n",
    "\n",
    "We followed Kruschke’s (2014) guidelines to derive the ROPE, wherein we took the standard deviation of the percentage of times subjects chose in line with PR-based planning and multiplied this value by 0.1 , which was 0.18, and multiplied this by 0.1, to define effects that are too small to be considered significant. We then rounded this up to 0.2 to make it even a bit more conservative than Kruschke’s (2014) recommendation. We use this ROPE for all subsequent analyses.\n",
    "\n",
    "Note below, we fit the same model to the two subsequent manipulation checks, except include different variables (specifically, variables 3 and 5 as described in the preregistration)."
   ]
  },
  {
   "cell_type": "code",
   "execution_count": 5,
   "id": "1e00c50b",
   "metadata": {},
   "outputs": [
    {
     "name": "stderr",
     "output_type": "stream",
     "text": [
      "Auto-assigning NUTS sampler...\n",
      "Initializing NUTS using adapt_diag...\n",
      "Multiprocess sampling (4 chains in 4 jobs)\n",
      "NUTS: [omega, kappa_minus2, theta]\n"
     ]
    },
    {
     "data": {
      "text/html": [
       "\n",
       "<style>\n",
       "    /* Turns off some styling */\n",
       "    progress {\n",
       "        /* gets rid of default border in Firefox and Opera. */\n",
       "        border: none;\n",
       "        /* Needs to be in here for Safari polyfill so background images work as expected. */\n",
       "        background-size: auto;\n",
       "    }\n",
       "    progress:not([value]), progress:not([value])::-webkit-progress-bar {\n",
       "        background: repeating-linear-gradient(45deg, #7e7e7e, #7e7e7e 10px, #5c5c5c 10px, #5c5c5c 20px);\n",
       "    }\n",
       "    .progress-bar-interrupted, .progress-bar-interrupted::-webkit-progress-bar {\n",
       "        background: #F44336;\n",
       "    }\n",
       "</style>\n"
      ],
      "text/plain": [
       "<IPython.core.display.HTML object>"
      ]
     },
     "metadata": {},
     "output_type": "display_data"
    },
    {
     "data": {
      "text/html": [
       "\n",
       "    <div>\n",
       "      <progress value='20000' class='' max='20000' style='width:300px; height:20px; vertical-align: middle;'></progress>\n",
       "      100.00% [20000/20000 02:18&lt;00:00 Sampling 4 chains, 0 divergences]\n",
       "    </div>\n",
       "    "
      ],
      "text/plain": [
       "<IPython.core.display.HTML object>"
      ]
     },
     "metadata": {},
     "output_type": "display_data"
    },
    {
     "name": "stderr",
     "output_type": "stream",
     "text": [
      "Sampling 4 chains for 1_000 tune and 4_000 draw iterations (4_000 + 16_000 draws total) took 162 seconds.\n"
     ]
    }
   ],
   "source": [
    "n_subjects = n_subjects\n",
    "subjects= [*range(n_subjects)]\n",
    "with pm.Model() as hierarchical_model:\n",
    "\n",
    "    omega = pm.Beta('omega', 1., 1.)\n",
    "    kappa_minus2 = pm.Gamma('kappa_minus2', 1.105125 , 0.1051249)\n",
    "    kappa = pm.Deterministic('kappa', kappa_minus2 + 2)\n",
    "    \n",
    "    theta = pm.Beta('theta', alpha=omega*(kappa-2)+1, beta=(1-omega)*(kappa-2)+1, shape=n_subjects)\n",
    "\n",
    "\n",
    "    y = pm.Binomial('y',n=4,p=theta[subjects], observed=CP_evidence) \n",
    "    \n",
    "with hierarchical_model:\n",
    "    trace_main = pm.sample(draws=4000, target_accept=0.99,init='adapt_diag')"
   ]
  },
  {
   "cell_type": "code",
   "execution_count": 7,
   "id": "9c30caf9",
   "metadata": {},
   "outputs": [
    {
     "data": {
      "text/html": [
       "<div>\n",
       "<style scoped>\n",
       "    .dataframe tbody tr th:only-of-type {\n",
       "        vertical-align: middle;\n",
       "    }\n",
       "\n",
       "    .dataframe tbody tr th {\n",
       "        vertical-align: top;\n",
       "    }\n",
       "\n",
       "    .dataframe thead th {\n",
       "        text-align: right;\n",
       "    }\n",
       "</style>\n",
       "<table border=\"1\" class=\"dataframe\">\n",
       "  <thead>\n",
       "    <tr style=\"text-align: right;\">\n",
       "      <th></th>\n",
       "      <th>mean</th>\n",
       "      <th>sd</th>\n",
       "      <th>hdi_2.5%</th>\n",
       "      <th>hdi_97.5%</th>\n",
       "      <th>mcse_mean</th>\n",
       "      <th>mcse_sd</th>\n",
       "      <th>ess_bulk</th>\n",
       "      <th>ess_tail</th>\n",
       "      <th>r_hat</th>\n",
       "    </tr>\n",
       "  </thead>\n",
       "  <tbody>\n",
       "    <tr>\n",
       "      <th>omega</th>\n",
       "      <td>0.606</td>\n",
       "      <td>0.018</td>\n",
       "      <td>0.571</td>\n",
       "      <td>0.643</td>\n",
       "      <td>0.0</td>\n",
       "      <td>0.0</td>\n",
       "      <td>2484.0</td>\n",
       "      <td>5587.0</td>\n",
       "      <td>1.0</td>\n",
       "    </tr>\n",
       "  </tbody>\n",
       "</table>\n",
       "</div>"
      ],
      "text/plain": [
       "        mean     sd  hdi_2.5%  hdi_97.5%  mcse_mean  mcse_sd  ess_bulk  \\\n",
       "omega  0.606  0.018     0.571      0.643        0.0      0.0    2484.0   \n",
       "\n",
       "       ess_tail  r_hat  \n",
       "omega    5587.0    1.0  "
      ]
     },
     "execution_count": 7,
     "metadata": {},
     "output_type": "execute_result"
    }
   ],
   "source": [
    "import arviz as az\n",
    "az.summary(trace_main, ['omega'],hdi_prob=0.95)"
   ]
  },
  {
   "cell_type": "code",
   "execution_count": 8,
   "id": "ecc7d488",
   "metadata": {},
   "outputs": [],
   "source": [
    "df_posterior=trace_main.to_dataframe()\n",
    "df_posterior.to_csv('posterior_model.csv')"
   ]
  },
  {
   "cell_type": "markdown",
   "id": "183fe1bc",
   "metadata": {},
   "source": [
    "## Plot Results"
   ]
  },
  {
   "cell_type": "code",
   "execution_count": 13,
   "id": "1d6cff5c",
   "metadata": {},
   "outputs": [
    {
     "name": "stderr",
     "output_type": "stream",
     "text": [
      "/var/folders/t8/0vpf6dyn0q111yjvx8dbs7dc0000gn/T/ipykernel_58830/1006292922.py:18: UserWarning: FixedFormatter should only be used together with FixedLocator\n",
      "  ax.set_xticklabels(['{:.1f}'.format(float(t.get_text())) for t in ax.get_xticklabels()])\n"
     ]
    },
    {
     "data": {
      "image/png": "[encoded data removed]",
      "text/plain": [
       "<Figure size 576x288 with 1 Axes>"
      ]
     },
     "metadata": {},
     "output_type": "display_data"
    }
   ],
   "source": [
    "sns.set(style='white', font='arial', font_scale=1.8, rc={'figure.figsize':(8,4)})\n",
    "fig, ax = plt.subplots()\n",
    "\n",
    "\n",
    "y=sns.kdeplot(data=df_posterior, x=('posterior', 'omega'),fill=True,alpha=1,color=\"gray\")\n",
    "ax.set_ylabel('Density')\n",
    "ax.set_xlabel('Low \\u2190 Use Cond Prob \\u2192 High')\n",
    "ax.set_xlim(0,1.0)\n",
    "ax.set_yticks([10,20])\n",
    "\n",
    "ax.axvline(0.5,color='black',linewidth=4.0)\n",
    "\n",
    "ax.set_title('Use of Conditional Probability for Rare Outcomes')\n",
    "ax.axhline(y=0,xmin=0.57,xmax=0.643,color='yellow',linewidth=10.0)\n",
    "\n",
    "\n",
    "\n",
    "ax.set_xticklabels(['{:.1f}'.format(float(t.get_text())) for t in ax.get_xticklabels()])\n",
    "\n",
    "plt.tight_layout()\n",
    "\n",
    "plt.savefig('study7_evidence_ConditionalProbabilityUse.png',dpi=300)\n",
    "plt.show()"
   ]
  },
  {
   "cell_type": "code",
   "execution_count": null,
   "id": "c927b6ce",
   "metadata": {},
   "outputs": [],
   "source": []
  }
 ],
 "metadata": {
  "kernelspec": {
   "display_name": "Python 3 (ipykernel)",
   "language": "python",
   "name": "python3"
  },
  "language_info": {
   "codemirror_mode": {
    "name": "ipython",
    "version": 3
   },
   "file_extension": ".py",
   "mimetype": "text/x-python",
   "name": "python",
   "nbconvert_exporter": "python",
   "pygments_lexer": "ipython3",
   "version": "3.9.5"
  }
 },
 "nbformat": 4,
 "nbformat_minor": 5
}
