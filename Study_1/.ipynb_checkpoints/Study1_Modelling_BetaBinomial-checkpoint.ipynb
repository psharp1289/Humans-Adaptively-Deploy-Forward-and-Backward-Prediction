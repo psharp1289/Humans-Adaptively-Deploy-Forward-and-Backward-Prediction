{
 "cells": [
  {
   "cell_type": "markdown",
   "id": "9b5f86fc",
   "metadata": {},
   "source": [
    "# Load data"
   ]
  },
  {
   "cell_type": "code",
   "execution_count": 2,
   "id": "273b1d7c",
   "metadata": {},
   "outputs": [
    {
     "name": "stdout",
     "output_type": "stream",
     "text": [
      "PR Evidence       0.565639\n",
      "bias_left_side    0.463470\n",
      "distal_bias       0.431507\n",
      "rwd_reval         0.888128\n",
      "trn_reval         0.541667\n",
      "dtype: float64\n",
      "219\n",
      "ROPE of PR EVIDENCE: 0.017362910621273854\n"
     ]
    }
   ],
   "source": [
    "#load dependencies\n",
    "import numpy as np\n",
    "from IPython.display import Image\n",
    "from matplotlib import gridspec\n",
    "import pandas as pd\n",
    "import numpy as np\n",
    "import pymc3 as pm\n",
    "import matplotlib.pyplot as plt\n",
    "import seaborn as sns\n",
    "\n",
    "sns.set(style='white', palette='Set2', font='arial', font_scale=1.0, rc=None)\n",
    "\n",
    "df=pd.read_csv('all_planning_questions.csv') #load data\n",
    "#print means of each key variable\n",
    "print(df.mean())\n",
    "print(len(df))\n",
    "\n",
    "#Convert percentage of each key variable to number of successes out of 8 choices\n",
    "#The purpose of this is to transform the data such that it can be modelled by a binomial likelihood\n",
    "PR_evidence=df['PR Evidence']*8\n",
    "distal_bias=df['distal_bias']*8\n",
    "action_bias=df['bias_left_side']*8\n",
    "\n",
    "# Print 0.1*SD of PR Evidence to define the ROPE\n",
    "print('ROPE of PR EVIDENCE: {}'.format(0.1*df['PR Evidence'].std()))\n"
   ]
  },
  {
   "cell_type": "code",
   "execution_count": null,
   "id": "85b7fb89",
   "metadata": {},
   "outputs": [],
   "source": []
  },
  {
   "cell_type": "markdown",
   "id": "9d3ef91f",
   "metadata": {},
   "source": [
    "# Fit Model for Hypothesis 1: Evidence for PR-based Planning\n",
    "\n",
    "Below we fit the beta-binomial described in text to choice data for Variable 1, which defines the number of times participants chose in line with PR-based planning. If omega, the mode of the group distribution, is estimated to be significantly greater than 0.5 (no evidence of PR-based planning), then we conclude evidence for our main hypothesis.\n",
    "\n",
    "We followed Kruschke’s (2014) guidelines to derive the ROPE, wherein we took the standard deviation of the percentage of times subjects chose in line with PR-based planning and multiplied this value by 0.1 , which was 0.18, and multiplied this by 0.1, to define effects that are too small to be considered significant. We then rounded this up to 0.2 to make it even a bit more conservative than Kruschke’s (2014) recommendation. We use this ROPE for all subsequent analyses.\n",
    "\n",
    "Note below, we fit the same model to the two subsequent manipulation checks, except include different variables (specifically, variables 3 and 5 as described in the preregistration)."
   ]
  },
  {
   "cell_type": "code",
   "execution_count": 4,
   "id": "1e00c50b",
   "metadata": {},
   "outputs": [
    {
     "name": "stderr",
     "output_type": "stream",
     "text": [
      "<ipython-input-4-3cd46f20ed22>:13: FutureWarning: In v4.0, pm.sample will return an `arviz.InferenceData` object instead of a `MultiTrace` by default. You can pass return_inferencedata=True or return_inferencedata=False to be safe and silence this warning.\n",
      "  trace_main = pm.sample(draws=4000, target_accept=0.99,init='adapt_diag')\n",
      "Auto-assigning NUTS sampler...\n",
      "Initializing NUTS using adapt_diag...\n",
      "Multiprocess sampling (4 chains in 4 jobs)\n",
      "NUTS: [theta, kappa_minus2, omega]\n"
     ]
    },
    {
     "data": {
      "text/html": [
       "\n",
       "    <div>\n",
       "        <style>\n",
       "            /* Turns off some styling */\n",
       "            progress {\n",
       "                /* gets rid of default border in Firefox and Opera. */\n",
       "                border: none;\n",
       "                /* Needs to be in here for Safari polyfill so background images work as expected. */\n",
       "                background-size: auto;\n",
       "            }\n",
       "            .progress-bar-interrupted, .progress-bar-interrupted::-webkit-progress-bar {\n",
       "                background: #F44336;\n",
       "            }\n",
       "        </style>\n",
       "      <progress value='20000' class='' max='20000' style='width:300px; height:20px; vertical-align: middle;'></progress>\n",
       "      100.00% [20000/20000 00:36<00:00 Sampling 4 chains, 0 divergences]\n",
       "    </div>\n",
       "    "
      ],
      "text/plain": [
       "<IPython.core.display.HTML object>"
      ]
     },
     "metadata": {},
     "output_type": "display_data"
    },
    {
     "name": "stderr",
     "output_type": "stream",
     "text": [
      "Sampling 4 chains for 1_000 tune and 4_000 draw iterations (4_000 + 16_000 draws total) took 48 seconds.\n",
      "The number of effective samples is smaller than 10% for some parameters.\n"
     ]
    }
   ],
   "source": [
    "n_subjects = 218\n",
    "subjects= [*range(218)]\n",
    "with pm.Model() as hierarchical_model:\n",
    "    omega = pm.Beta('omega', 1., 1.)\n",
    "    kappa_minus2 = pm.Gamma('kappa_minus2', 1.105125 , 0.1051249, transform=None)\n",
    "    kappa = pm.Deterministic('kappa', kappa_minus2 + 2)\n",
    "    \n",
    "    theta = pm.Beta('theta', alpha=omega*(kappa-2)+1, beta=(1-omega)*(kappa-2)+1, shape=n_subjects)\n",
    "\n",
    "    y = pm.Binomial('y',n=8,p=theta[subjects], observed=PR_evidence) \n",
    "    \n",
    "with hierarchical_model:\n",
    "    trace_main = pm.sample(draws=4000, target_accept=0.99,init='adapt_diag')"
   ]
  },
  {
   "cell_type": "markdown",
   "id": "8f771f2b",
   "metadata": {},
   "source": [
    "## Posterior distribution for group-level tendency to choose in line with PR-based planning\n",
    "\n",
    "As you see below, the parameter omega defining the group-level tendency to choose in line with PR-based planning was significantly greater than the null value of 0.5. Specifically, the posterior highest density interval does not contain any values in the pre-defined region of practical equivalence, defining values similar-enough to 0.5 to be considered null effect sizes. "
   ]
  },
  {
   "cell_type": "code",
   "execution_count": 5,
   "id": "1d828542",
   "metadata": {},
   "outputs": [
    {
     "name": "stderr",
     "output_type": "stream",
     "text": [
      "Got error No model on context stack. trying to find log_likelihood in translation.\n",
      "/Library/Frameworks/Python.framework/Versions/3.9/lib/python3.9/site-packages/arviz/data/io_pymc3_3x.py:98: FutureWarning: Using `from_pymc3` without the model will be deprecated in a future release. Not using the model will return less accurate and less useful results. Make sure you use the model argument or call from_pymc3 within a model context.\n",
      "  warnings.warn(\n"
     ]
    },
    {
     "data": {
      "image/png": "[encoded data removed]",
      "text/plain": [
       "<Figure size 360x144 with 1 Axes>"
      ]
     },
     "metadata": {},
     "output_type": "display_data"
    },
    {
     "name": "stderr",
     "output_type": "stream",
     "text": [
      "Got error No model on context stack. trying to find log_likelihood in translation.\n",
      "/Library/Frameworks/Python.framework/Versions/3.9/lib/python3.9/site-packages/arviz/data/io_pymc3_3x.py:98: FutureWarning: Using `from_pymc3` without the model will be deprecated in a future release. Not using the model will return less accurate and less useful results. Make sure you use the model argument or call from_pymc3 within a model context.\n",
      "  warnings.warn(\n"
     ]
    },
    {
     "data": {
      "text/html": [
       "<div>\n",
       "<style scoped>\n",
       "    .dataframe tbody tr th:only-of-type {\n",
       "        vertical-align: middle;\n",
       "    }\n",
       "\n",
       "    .dataframe tbody tr th {\n",
       "        vertical-align: top;\n",
       "    }\n",
       "\n",
       "    .dataframe thead th {\n",
       "        text-align: right;\n",
       "    }\n",
       "</style>\n",
       "<table border=\"1\" class=\"dataframe\">\n",
       "  <thead>\n",
       "    <tr style=\"text-align: right;\">\n",
       "      <th></th>\n",
       "      <th>mean</th>\n",
       "      <th>sd</th>\n",
       "      <th>hdi_3%</th>\n",
       "      <th>hdi_97%</th>\n",
       "      <th>mcse_mean</th>\n",
       "      <th>mcse_sd</th>\n",
       "      <th>ess_bulk</th>\n",
       "      <th>ess_tail</th>\n",
       "      <th>r_hat</th>\n",
       "    </tr>\n",
       "  </thead>\n",
       "  <tbody>\n",
       "    <tr>\n",
       "      <th>omega</th>\n",
       "      <td>0.569</td>\n",
       "      <td>0.014</td>\n",
       "      <td>0.543</td>\n",
       "      <td>0.594</td>\n",
       "      <td>0.0</td>\n",
       "      <td>0.0</td>\n",
       "      <td>4622.0</td>\n",
       "      <td>7277.0</td>\n",
       "      <td>1.0</td>\n",
       "    </tr>\n",
       "  </tbody>\n",
       "</table>\n",
       "</div>"
      ],
      "text/plain": [
       "        mean     sd  hdi_3%  hdi_97%  mcse_mean  mcse_sd  ess_bulk  ess_tail  \\\n",
       "omega  0.569  0.014   0.543    0.594        0.0      0.0    4622.0    7277.0   \n",
       "\n",
       "       r_hat  \n",
       "omega    1.0  "
      ]
     },
     "execution_count": 5,
     "metadata": {},
     "output_type": "execute_result"
    }
   ],
   "source": [
    "import arviz as az\n",
    "az.plot_posterior(\n",
    "    trace_main,\n",
    "    var_names=['omega'],\n",
    "    hdi_prob=0.95,\n",
    "    rope=[0.48,0.52],\n",
    "    figsize=[5,2]\n",
    ");\n",
    "\n",
    "plt.savefig('omega_PRevidence_posterior_betabinomial.png', bbox_inches='tight',  dpi=300)\n",
    "plt.show()\n",
    "\n",
    "az.summary(trace_main, ['omega'])"
   ]
  },
  {
   "cell_type": "markdown",
   "id": "6547dc77",
   "metadata": {},
   "source": [
    "# Fit model for manipulation check 1: Bias for distal reward?"
   ]
  },
  {
   "cell_type": "code",
   "execution_count": null,
   "id": "70d7a709",
   "metadata": {},
   "outputs": [],
   "source": [
    "with pm.Model() as hierarchical_model:\n",
    "    omega = pm.Beta('omega', 1., 1.)\n",
    "    kappa_minus2 = pm.Gamma('kappa_minus2', 1.105125 , 0.1051249, transform=None)\n",
    "    kappa = pm.Deterministic('kappa', kappa_minus2 + 2)\n",
    "    \n",
    "    theta = pm.Beta('theta', alpha=omega*(kappa-2)+1, beta=(1-omega)*(kappa-2)+1, shape=n_subjects)\n",
    "\n",
    "    y = pm.Binomial('y',n=8,p=theta[subjects], observed=distal_bias) \n",
    "    \n",
    "with hierarchical_model:\n",
    "    trace_distal = pm.sample(draws=4000, target_accept=0.99,init='adapt_diag')"
   ]
  },
  {
   "cell_type": "markdown",
   "id": "183fe1bc",
   "metadata": {},
   "source": [
    "## Plot posterior for omega: The highest-density interval (black line) in the posterior does not include 0.3 or 0.7. \n",
    "\n",
    "Manipulation check passed!"
   ]
  },
  {
   "cell_type": "code",
   "execution_count": null,
   "id": "d4ac1b24",
   "metadata": {},
   "outputs": [],
   "source": [
    "import arviz as az\n",
    "az.plot_posterior(\n",
    "    trace_distal,\n",
    "    var_names=['omega'],\n",
    "    hdi_prob=0.95,\n",
    "    rope=[0.28,0.32],\n",
    "    figsize=[5,2]\n",
    ");\n",
    "\n",
    "plt.savefig('omega_posterior_distalbias_betabinomial.png', bbox_inches='tight',  dpi=300)\n",
    "plt.show()"
   ]
  },
  {
   "cell_type": "markdown",
   "id": "478bfbe1",
   "metadata": {},
   "source": [
    "# Fit model for manipulation check 2: Bias for left-wards action?"
   ]
  },
  {
   "cell_type": "code",
   "execution_count": null,
   "id": "a930dabf",
   "metadata": {},
   "outputs": [],
   "source": [
    "with pm.Model() as hierarchical_model:\n",
    "    omega = pm.Beta('omega', 1., 1.)\n",
    "    kappa_minus2 = pm.Gamma('kappa_minus2', 1.105125 , 0.1051249, transform=None)\n",
    "    kappa = pm.Deterministic('kappa', kappa_minus2 + 2)\n",
    "    \n",
    "    theta = pm.Beta('theta', alpha=omega*(kappa-2)+1, beta=(1-omega)*(kappa-2)+1, shape=n_subjects)\n",
    "\n",
    "    y = pm.Binomial('y',n=8,p=theta[subjects], observed=action_bias) \n",
    "    \n",
    "with hierarchical_model:\n",
    "    trace_action = pm.sample(draws=4000, target_accept=0.99,init='adapt_diag')"
   ]
  },
  {
   "cell_type": "markdown",
   "id": "f5c4b637",
   "metadata": {},
   "source": [
    "## Plot posterior for omega: The highest-density interval (black line) in the posterior does not include 0.3 or 0.7. \n",
    "\n",
    "Manipulation check passed!"
   ]
  },
  {
   "cell_type": "code",
   "execution_count": null,
   "id": "35f8258d",
   "metadata": {},
   "outputs": [],
   "source": [
    "import arviz as az\n",
    "\n",
    "az.plot_posterior(\n",
    "    trace_action,\n",
    "    var_names=['omega'],\n",
    "    hdi_prob=0.95,\n",
    "    rope=[0.28,0.32],\n",
    "    figsize=[5,2]\n",
    ");\n",
    "plt.savefig('omega_posterior_actionbias_betabinomial.png', bbox_inches='tight',  dpi=300)\n",
    "plt.show()"
   ]
  },
  {
   "cell_type": "markdown",
   "id": "a73a1f62",
   "metadata": {},
   "source": [
    "# Transition and Reward Revaluation: Load and visualize data"
   ]
  },
  {
   "cell_type": "code",
   "execution_count": 4,
   "id": "afc438cc",
   "metadata": {},
   "outputs": [
    {
     "data": {
      "image/png": "[encoded data removed]",
      "text/plain": [
       "<Figure size 600x600 with 1 Axes>"
      ]
     },
     "metadata": {},
     "output_type": "display_data"
    }
   ],
   "source": [
    "import numpy as np\n",
    "import pandas as pd\n",
    "import math\n",
    "from matplotlib.pyplot import figure\n",
    "figure(figsize=(2, 2), dpi=300)\n",
    "\n",
    "#sigmoid function\n",
    "def sigmoid(x):\n",
    "    return 1 / (1 + math.exp(-x))\n",
    "\n",
    "#load data\n",
    "\n",
    "#plot transition revaluation performance\n",
    "df1=df['trn_reval']\n",
    "ax=df1.plot.hist(bins=20, alpha=0.5)\n",
    "\n",
    "#plot reward revaluation performance\n",
    "df2=df['rwd_reval']\n",
    "ax=df2.plot.hist(bins=20, alpha=0.5)\n",
    "\n",
    "\n",
    "plt.legend(['trn reval', 'rwd reval'])\n",
    "plt.show()"
   ]
  },
  {
   "cell_type": "markdown",
   "id": "bddd8fd2",
   "metadata": {},
   "source": [
    "## Calculate cost of Transition Revaluation and subtract it from cost of Reward Revaluation for each subject "
   ]
  },
  {
   "cell_type": "code",
   "execution_count": 9,
   "id": "238936e2",
   "metadata": {},
   "outputs": [
    {
     "data": {
      "text/plain": [
       "<Figure size 600x600 with 0 Axes>"
      ]
     },
     "metadata": {},
     "output_type": "display_data"
    },
    {
     "data": {
      "image/png": "[encoded data removed]",
      "text/plain": [
       "<Figure size 432x288 with 1 Axes>"
      ]
     },
     "metadata": {},
     "output_type": "display_data"
    },
    {
     "name": "stdout",
     "output_type": "stream",
     "text": [
      "0.2569444444444444\n",
      "23\n"
     ]
    }
   ],
   "source": [
    "figure(figsize=(2, 2), dpi=300)\n",
    "\n",
    "cost_TR=df['rwd_reval']-df['trn_reval']\n",
    "cost_RR=1-df['rwd_reval']\n",
    "effect_TR=cost_TR-cost_RR #subtract cost of reward reval from cost of transition revaluation\n",
    "df3=pd.DataFrame()\n",
    "df3['effect_TR']=effect_TR\n",
    "\n",
    "ax=df3.plot.hist(bins=20, alpha=0.5)\n",
    "plt.show()\n",
    "print(np.mean(effect_TR))\n",
    "df4=df3[df3['effect_TR']<0]\n",
    "print(len(df4))"
   ]
  },
  {
   "cell_type": "markdown",
   "id": "75c7fa12",
   "metadata": {},
   "source": [
    "## Fit model to determine if the cost of transition revaluation is significantly greater than the effect of reward evaluation"
   ]
  },
  {
   "cell_type": "code",
   "execution_count": null,
   "id": "1b682982",
   "metadata": {},
   "outputs": [],
   "source": [
    "from pymc3 import HalfCauchy, Model, Normal, glm, plot_posterior_predictive_glm, sample\n",
    "\n",
    "with pm.Model() as model_effect_TR:  # model specifications in PyMC3 are wrapped in a with-statement\n",
    "    # Define priors\n",
    "    sigma = HalfCauchy(\"sigma\", beta=10, testval=1.0)\n",
    "    mu = Normal(\"mu\", 0, sigma=20)\n",
    "\n",
    "    # Define likelihood\n",
    "    likelihood = Normal(\"y\", mu=mu, sigma=sigma, observed=effect_TR)\n",
    "    \n",
    "with model_effect_TR:\n",
    "    trace_effect_TR = pm.sample(draws=4000, target_accept=0.9999,init='adapt_diag')"
   ]
  },
  {
   "cell_type": "code",
   "execution_count": null,
   "id": "ee3c9383",
   "metadata": {},
   "outputs": [],
   "source": [
    "az.plot_posterior(\n",
    "    trace_effect_TR,\n",
    "    var_names=['mu'],\n",
    "    hdi_prob=0.95,\n",
    "    rope=[-.02,0.02],\n",
    "    figsize=[5,2]\n",
    ");\n",
    "plt.savefig('effect_TR.png', bbox_inches='tight',  dpi=300)\n",
    "plt.show()"
   ]
  },
  {
   "cell_type": "markdown",
   "id": "ec528ded",
   "metadata": {},
   "source": [
    "# Base Rate Bias"
   ]
  },
  {
   "cell_type": "code",
   "execution_count": 20,
   "id": "8833c4e0",
   "metadata": {},
   "outputs": [
    {
     "name": "stdout",
     "output_type": "stream",
     "text": [
      "PR Evidence       0.565940\n",
      "base_rate_bias    0.036697\n",
      "dtype: float64\n",
      "218\n",
      "0      1.0\n",
      "1      1.0\n",
      "2      1.0\n",
      "3      1.0\n",
      "4      0.0\n",
      "      ... \n",
      "213    1.0\n",
      "214    1.0\n",
      "215    1.0\n",
      "216    2.0\n",
      "217    1.0\n",
      "Name: base_rate_bias, Length: 218, dtype: float64\n",
      "ROPE of PR EVIDENCE: 0.01739713974156635\n"
     ]
    },
    {
     "name": "stderr",
     "output_type": "stream",
     "text": [
      "/var/folders/bb/qt1m2y_s49v7r03yds1dm_0w0000gn/T/ipykernel_40737/2456069136.py:15: FutureWarning: The default value of numeric_only in DataFrame.mean is deprecated. In a future version, it will default to False. In addition, specifying 'numeric_only=None' is deprecated. Select only valid columns or specify the value of numeric_only to silence this warning.\n",
      "  print(df.mean())\n"
     ]
    }
   ],
   "source": [
    "#load dependencies\n",
    "import numpy as np\n",
    "from IPython.display import Image\n",
    "from matplotlib import gridspec\n",
    "import pandas as pd\n",
    "import numpy as np\n",
    "import pymc3 as pm\n",
    "import matplotlib.pyplot as plt\n",
    "import seaborn as sns\n",
    "\n",
    "sns.set(style='white', palette='Set2', font='arial', font_scale=1.0, rc=None)\n",
    "\n",
    "df=pd.read_csv('all_planning_questions_baseratebias.csv') #load data\n",
    "#print means of each key variable\n",
    "print(df.mean())\n",
    "print(len(df))\n",
    "\n",
    "#Convert percentage of each key variable to number of successes out of 8 choices\n",
    "#The purpose of this is to transform the data such that it can be modelled by a binomial likelihood\n",
    "PR_evidence=df['PR Evidence']*8\n",
    "baserate_bias=df['base_rate_bias']*2\n",
    "baserate_bias=(baserate_bias+1)\n",
    "print(baserate_bias)\n",
    "# Print 0.1*SD of PR Evidence to define the ROPE\n",
    "print('ROPE of PR EVIDENCE: {}'.format(0.1*df['PR Evidence'].std()))\n"
   ]
  },
  {
   "cell_type": "code",
   "execution_count": 22,
   "id": "ac9721b1",
   "metadata": {},
   "outputs": [
    {
     "name": "stderr",
     "output_type": "stream",
     "text": [
      "/var/folders/bb/qt1m2y_s49v7r03yds1dm_0w0000gn/T/ipykernel_40737/4174580201.py:13: FutureWarning: In v4.0, pm.sample will return an `arviz.InferenceData` object instead of a `MultiTrace` by default. You can pass return_inferencedata=True or return_inferencedata=False to be safe and silence this warning.\n",
      "  trace_main = pm.sample(draws=4000, target_accept=0.999,init='adapt_diag')\n",
      "Auto-assigning NUTS sampler...\n",
      "Initializing NUTS using adapt_diag...\n",
      "Multiprocess sampling (4 chains in 4 jobs)\n",
      "NUTS: [theta, kappa_minus2, omega]\n"
     ]
    },
    {
     "data": {
      "text/html": [
       "\n",
       "<style>\n",
       "    /* Turns off some styling */\n",
       "    progress {\n",
       "        /* gets rid of default border in Firefox and Opera. */\n",
       "        border: none;\n",
       "        /* Needs to be in here for Safari polyfill so background images work as expected. */\n",
       "        background-size: auto;\n",
       "    }\n",
       "    progress:not([value]), progress:not([value])::-webkit-progress-bar {\n",
       "        background: repeating-linear-gradient(45deg, #7e7e7e, #7e7e7e 10px, #5c5c5c 10px, #5c5c5c 20px);\n",
       "    }\n",
       "    .progress-bar-interrupted, .progress-bar-interrupted::-webkit-progress-bar {\n",
       "        background: #F44336;\n",
       "    }\n",
       "</style>\n"
      ],
      "text/plain": [
       "<IPython.core.display.HTML object>"
      ]
     },
     "metadata": {},
     "output_type": "display_data"
    },
    {
     "data": {
      "text/html": [
       "\n",
       "    <div>\n",
       "      <progress value='20000' class='' max='20000' style='width:300px; height:20px; vertical-align: middle;'></progress>\n",
       "      100.00% [20000/20000 01:09&lt;00:00 Sampling 4 chains, 0 divergences]\n",
       "    </div>\n",
       "    "
      ],
      "text/plain": [
       "<IPython.core.display.HTML object>"
      ]
     },
     "metadata": {},
     "output_type": "display_data"
    },
    {
     "name": "stderr",
     "output_type": "stream",
     "text": [
      "Sampling 4 chains for 1_000 tune and 4_000 draw iterations (4_000 + 16_000 draws total) took 84 seconds.\n",
      "The acceptance probability does not match the target. It is 0.9945919357606985, but should be close to 0.999. Try to increase the number of tuning steps.\n",
      "The number of effective samples is smaller than 10% for some parameters.\n"
     ]
    }
   ],
   "source": [
    "n_subjects = 218\n",
    "subjects= [*range(218)]\n",
    "with pm.Model() as hierarchical_model:\n",
    "    omega = pm.Beta('omega', 1., 1.)\n",
    "    kappa_minus2 = pm.Gamma('kappa_minus2', 1.105125 , 0.1051249, transform=None)\n",
    "    kappa = pm.Deterministic('kappa', kappa_minus2 + 2)\n",
    "    \n",
    "    theta = pm.Beta('theta', alpha=omega*(kappa-2)+1, beta=(1-omega)*(kappa-2)+1, shape=n_subjects)\n",
    "\n",
    "    y = pm.Binomial('y',n=2,p=theta[subjects], observed=baserate_bias) \n",
    "    \n",
    "with hierarchical_model:\n",
    "    trace_main = pm.sample(draws=4000, target_accept=0.999,init='adapt_diag')"
   ]
  },
  {
   "cell_type": "code",
   "execution_count": 23,
   "id": "52c06146",
   "metadata": {},
   "outputs": [
    {
     "name": "stderr",
     "output_type": "stream",
     "text": [
      "Got error No model on context stack. trying to find log_likelihood in translation.\n",
      "/Library/Frameworks/Python.framework/Versions/3.9/lib/python3.9/site-packages/arviz/data/io_pymc3_3x.py:98: FutureWarning: Using `from_pymc3` without the model will be deprecated in a future release. Not using the model will return less accurate and less useful results. Make sure you use the model argument or call from_pymc3 within a model context.\n",
      "  warnings.warn(\n"
     ]
    },
    {
     "data": {
      "image/png": "[encoded data removed]",
      "text/plain": [
       "<Figure size 360x144 with 1 Axes>"
      ]
     },
     "metadata": {},
     "output_type": "display_data"
    }
   ],
   "source": [
    "import arviz as az\n",
    "az.plot_posterior(\n",
    "    trace_main,\n",
    "    var_names=['omega'],\n",
    "    hdi_prob=0.95,\n",
    "    rope=[0.68,0.72],\n",
    "    figsize=[5,2]\n",
    ");\n",
    "\n",
    "plt.savefig('omega_posterior_BaseRatebias_betabinomial.png', bbox_inches='tight',  dpi=300)\n",
    "plt.show()"
   ]
  }
 ],
 "metadata": {
  "kernelspec": {
   "display_name": "Python 3 (ipykernel)",
   "language": "python",
   "name": "python3"
  },
  "language_info": {
   "codemirror_mode": {
    "name": "ipython",
    "version": 3
   },
   "file_extension": ".py",
   "mimetype": "text/x-python",
   "name": "python",
   "nbconvert_exporter": "python",
   "pygments_lexer": "ipython3",
   "version": "3.9.5"
  }
 },
 "nbformat": 4,
 "nbformat_minor": 5
}
