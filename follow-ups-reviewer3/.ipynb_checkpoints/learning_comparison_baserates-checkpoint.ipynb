{
 "cells": [
  {
   "cell_type": "code",
   "execution_count": null,
   "id": "6756faa3-1994-49ab-9438-431d9ee1d091",
   "metadata": {},
   "outputs": [],
   "source": [
    "import pandas as pd\n",
    "from scipy.stats import ttest_ind as tt\n",
    "\n",
    "df=pd.read_csv('low_vs_high.csv')\n",
    "# Step 3: Perform the t-test\n",
    "high_br = df['high_br']\n",
    "low_br = df['low_br']\n",
    "\n",
    "t_statistic, p_value = tt(high_br, low_br)\n",
    "\n",
    "# Step 4: Print out the results\n",
    "print(\"T-Value:\", t_statistic)\n",
    "print(\"P-Value:\", p_value)\n"
   ]
  }
 ],
 "metadata": {
  "kernelspec": {
   "display_name": "Python 3 (ipykernel)",
   "language": "python",
   "name": "python3"
  },
  "language_info": {
   "codemirror_mode": {
    "name": "ipython",
    "version": 3
   },
   "file_extension": ".py",
   "mimetype": "text/x-python",
   "name": "python",
   "nbconvert_exporter": "python",
   "pygments_lexer": "ipython3",
   "version": "3.9.6"
  }
 },
 "nbformat": 4,
 "nbformat_minor": 5
}
